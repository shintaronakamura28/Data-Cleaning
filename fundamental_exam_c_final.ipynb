{
 "cells": [
  {
   "cell_type": "markdown",
   "id": "0dec1ae7-4422-421b-938a-e04579280177",
   "metadata": {},
   "source": [
    "# 🚗 Automobile Company Insurance Complaints\n",
    "\n",
    "## Requirements:\n",
    "Your task is to clean and explore a dataset for automobile insurance company investors that describes trends in insurance complaint ranking data. They are particularly interested in learning about various automobile insurance companies and their trends in complaints.\n",
    "\n",
    "The data is from the New York State Department of Financial Services (DFS):\n",
    "\n",
    "> \"The DFS ranks automobile insurance companies doing business in New York State based on the number of consumer complaints upheld against them as a percentage of their total business over a two-year period. Complaints typically involve issues like delays in the payment of no-fault claims and nonrenewal of policies. Insurers with the fewest upheld complaints per million dollars of premiums appear at the top of the list. Those with the highest complaint ratios are ranked at the bottom.\" - ny.gov\n",
    "\n",
    "## Data Dictionary:\n",
    "| Column Name                     | Data Type | Description                                                                                              |\n",
    "|---------------------------------|-----------|----------------------------------------------------------------------------------------------------------|\n",
    "| **NAIC**                        | Int       | National Association of Insurance Commissioners ID Number                                                |\n",
    "| **Company Name**                | Object    | Insurance Company Name                                                                                   |\n",
    "| **Ratio**                       | Float     | Complaint Ratio is the quotient of the number of upheld complaints divided by the average of a company's current and prior year premiums written directly in New York State |\n",
    "| **Upheld Complaints**           | Float     | Number of \"upheld\" complaint cases                                                                        |\n",
    "| **Question of Fact Complaints** | Int       | Number of \"questions of fact\" cases                                                                       |\n",
    "| **Not Upheld Complaints**       | Int       | Number of \"not upheld or withdrawn\" cases                                                                 |\n",
    "| **Total Complaints**            | Int       | Sum of \"Upheld Complaints\", \"Question of Fact Complaints\", and \"Not Upheld Complaints\"                    |\n",
    "| **Premiums Written (in Millions)** | Float     | Average of a company's current and prior year premiums written directly in New York State (in millions of dollars) |\n",
    "| **Rank**                        | Int       | Number corresponding to a company's location on the report listing                                        |\n",
    "| **Filing Year**                 | Int       | Represents the year in which the complaint filing was closed                                              |\n",
    "\n",
    "## Steps for Data Cleaning and Preparation:\n",
    "\n",
    "1. **Identify and address any duplicate values.**\n",
    "2. **Ensure all columns match the data types listed in the data dictionary.**\n",
    "3. **Identify and address any inconsistencies in categorical values (e.g., cat, Cat, cats).**\n",
    "4. **Identify and address any missing values in this dataset. Fill in missing values with a placeholder appropriate for the data type.**\n",
    "5. **Identify and address any inappropriate or unusual data points (e.g., age cannot be 325).**\n",
    "\n",
    "## Data Exploration:\n",
    "\n",
    "### Univariate Visualizations:\n",
    "- Create two different types of univariate visualizations. Each visualization must include a brief interpretation within the code file.\n",
    "\n",
    "### Multivariate Visualizations:\n",
    "- Create two different types of multivariate visualizations. Each visualization must include a brief interpretation within the code file.\n",
    "\n",
    "## Markdown Excellence:\n",
    "- Ensure that your markdown is top-notch with icons and photos to enhance readability and engagement.\n"
   ]
  }
 ],
 "metadata": {
  "kernelspec": {
   "display_name": "Python 3 (ipykernel)",
   "language": "python",
   "name": "python3"
  },
  "language_info": {
   "codemirror_mode": {
    "name": "ipython",
    "version": 3
   },
   "file_extension": ".py",
   "mimetype": "text/x-python",
   "name": "python",
   "nbconvert_exporter": "python",
   "pygments_lexer": "ipython3",
   "version": "3.10.9"
  },
  "widgets": {
   "application/vnd.jupyter.widget-state+json": {
    "state": {},
    "version_major": 2,
    "version_minor": 0
   }
  }
 },
 "nbformat": 4,
 "nbformat_minor": 5
}
