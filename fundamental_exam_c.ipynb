{
 "cells": [
  {
   "cell_type": "code",
   "execution_count": null,
   "id": "b1074dc7-cae5-4335-a282-a7a4960b171e",
   "metadata": {},
   "outputs": [],
   "source": [
    "import pandas as pd\n",
    "import numpy as np\n",
    "import missingno as mn\n",
    "import matplotlib.pyplot as pt\n",
    "import seaborn as sns\n",
    "\n",
    "file_path = 'Project 1/auto-insurance-complaint-rankings.csv'\n",
    "\n",
    "df = pd.read_csv(file_patj)"
   ]
  }
 ],
 "metadata": {
  "kernelspec": {
   "display_name": "Python 3 (ipykernel)",
   "language": "python",
   "name": "python3"
  },
  "language_info": {
   "codemirror_mode": {
    "name": "ipython",
    "version": 3
   },
   "file_extension": ".py",
   "mimetype": "text/x-python",
   "name": "python",
   "nbconvert_exporter": "python",
   "pygments_lexer": "ipython3",
   "version": "3.10.14"
  }
 },
 "nbformat": 4,
 "nbformat_minor": 5
}
